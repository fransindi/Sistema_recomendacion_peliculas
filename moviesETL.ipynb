{
 "cells": [
  {
   "attachments": {},
   "cell_type": "markdown",
   "metadata": {},
   "source": [
    "# Proyecto Integrador Machine Learning por Francisco Garcia."
   ]
  },
  {
   "attachments": {},
   "cell_type": "markdown",
   "metadata": {},
   "source": [
    "### Proceso de ETL:"
   ]
  },
  {
   "attachments": {},
   "cell_type": "markdown",
   "metadata": {},
   "source": [
    "Este proceso lo haremos relativamente rapido, ya que la presentacion del proyecto es en poco tiempo y el objetivo es deployar la API. Aun asi dejaremos la base lo mejor posible"
   ]
  },
  {
   "attachments": {},
   "cell_type": "markdown",
   "metadata": {},
   "source": [
    "Importamos librerias a utilizar."
   ]
  },
  {
   "cell_type": "code",
   "execution_count": 1,
   "metadata": {},
   "outputs": [],
   "source": [
    "import pandas as pd\n",
    "import numpy as np\n",
    "import matplotlib.pyplot as plt"
   ]
  },
  {
   "cell_type": "code",
   "execution_count": 2,
   "metadata": {},
   "outputs": [
    {
     "data": {
      "text/html": [
       "<div>\n",
       "<style scoped>\n",
       "    .dataframe tbody tr th:only-of-type {\n",
       "        vertical-align: middle;\n",
       "    }\n",
       "\n",
       "    .dataframe tbody tr th {\n",
       "        vertical-align: top;\n",
       "    }\n",
       "\n",
       "    .dataframe thead th {\n",
       "        text-align: right;\n",
       "    }\n",
       "</style>\n",
       "<table border=\"1\" class=\"dataframe\">\n",
       "  <thead>\n",
       "    <tr style=\"text-align: right;\">\n",
       "      <th></th>\n",
       "      <th>Unnamed: 0</th>\n",
       "      <th>adult</th>\n",
       "      <th>belongs_to_collection</th>\n",
       "      <th>budget</th>\n",
       "      <th>genres</th>\n",
       "      <th>homepage</th>\n",
       "      <th>imdb_id</th>\n",
       "      <th>original_language</th>\n",
       "      <th>original_title</th>\n",
       "      <th>overview</th>\n",
       "      <th>...</th>\n",
       "      <th>spoken_languages</th>\n",
       "      <th>status</th>\n",
       "      <th>tagline</th>\n",
       "      <th>title</th>\n",
       "      <th>video</th>\n",
       "      <th>vote_average</th>\n",
       "      <th>vote_count</th>\n",
       "      <th>director</th>\n",
       "      <th>actors_names</th>\n",
       "      <th>_merge</th>\n",
       "    </tr>\n",
       "    <tr>\n",
       "      <th>id</th>\n",
       "      <th></th>\n",
       "      <th></th>\n",
       "      <th></th>\n",
       "      <th></th>\n",
       "      <th></th>\n",
       "      <th></th>\n",
       "      <th></th>\n",
       "      <th></th>\n",
       "      <th></th>\n",
       "      <th></th>\n",
       "      <th></th>\n",
       "      <th></th>\n",
       "      <th></th>\n",
       "      <th></th>\n",
       "      <th></th>\n",
       "      <th></th>\n",
       "      <th></th>\n",
       "      <th></th>\n",
       "      <th></th>\n",
       "      <th></th>\n",
       "      <th></th>\n",
       "    </tr>\n",
       "  </thead>\n",
       "  <tbody>\n",
       "    <tr>\n",
       "      <th>862</th>\n",
       "      <td>0</td>\n",
       "      <td>False</td>\n",
       "      <td>{'id': 10194, 'name': 'Toy Story Collection', ...</td>\n",
       "      <td>30000000</td>\n",
       "      <td>[{'id': 16, 'name': 'Animation'}, {'id': 35, '...</td>\n",
       "      <td>http://toystory.disney.com/toy-story</td>\n",
       "      <td>tt0114709</td>\n",
       "      <td>en</td>\n",
       "      <td>Toy Story</td>\n",
       "      <td>Led by Woody, Andy's toys live happily in his ...</td>\n",
       "      <td>...</td>\n",
       "      <td>[{'iso_639_1': 'en', 'name': 'English'}]</td>\n",
       "      <td>Released</td>\n",
       "      <td>NaN</td>\n",
       "      <td>Toy Story</td>\n",
       "      <td>False</td>\n",
       "      <td>7.7</td>\n",
       "      <td>5415.0</td>\n",
       "      <td>John Lasseter</td>\n",
       "      <td>['Tom Hanks', 'Tim Allen', 'Don Rickles', 'Jim...</td>\n",
       "      <td>both</td>\n",
       "    </tr>\n",
       "    <tr>\n",
       "      <th>8844</th>\n",
       "      <td>1</td>\n",
       "      <td>False</td>\n",
       "      <td>NaN</td>\n",
       "      <td>65000000</td>\n",
       "      <td>[{'id': 12, 'name': 'Adventure'}, {'id': 14, '...</td>\n",
       "      <td>NaN</td>\n",
       "      <td>tt0113497</td>\n",
       "      <td>en</td>\n",
       "      <td>Jumanji</td>\n",
       "      <td>When siblings Judy and Peter discover an encha...</td>\n",
       "      <td>...</td>\n",
       "      <td>[{'iso_639_1': 'en', 'name': 'English'}, {'iso...</td>\n",
       "      <td>Released</td>\n",
       "      <td>Roll the dice and unleash the excitement!</td>\n",
       "      <td>Jumanji</td>\n",
       "      <td>False</td>\n",
       "      <td>6.9</td>\n",
       "      <td>2413.0</td>\n",
       "      <td>Joe Johnston</td>\n",
       "      <td>['Robin Williams', 'Jonathan Hyde', 'Kirsten D...</td>\n",
       "      <td>both</td>\n",
       "    </tr>\n",
       "    <tr>\n",
       "      <th>15602</th>\n",
       "      <td>2</td>\n",
       "      <td>False</td>\n",
       "      <td>{'id': 119050, 'name': 'Grumpy Old Men Collect...</td>\n",
       "      <td>0</td>\n",
       "      <td>[{'id': 10749, 'name': 'Romance'}, {'id': 35, ...</td>\n",
       "      <td>NaN</td>\n",
       "      <td>tt0113228</td>\n",
       "      <td>en</td>\n",
       "      <td>Grumpier Old Men</td>\n",
       "      <td>A family wedding reignites the ancient feud be...</td>\n",
       "      <td>...</td>\n",
       "      <td>[{'iso_639_1': 'en', 'name': 'English'}]</td>\n",
       "      <td>Released</td>\n",
       "      <td>Still Yelling. Still Fighting. Still Ready for...</td>\n",
       "      <td>Grumpier Old Men</td>\n",
       "      <td>False</td>\n",
       "      <td>6.5</td>\n",
       "      <td>92.0</td>\n",
       "      <td>Howard Deutch</td>\n",
       "      <td>['Walter Matthau', 'Jack Lemmon', 'Ann-Margret...</td>\n",
       "      <td>both</td>\n",
       "    </tr>\n",
       "    <tr>\n",
       "      <th>31357</th>\n",
       "      <td>3</td>\n",
       "      <td>False</td>\n",
       "      <td>NaN</td>\n",
       "      <td>16000000</td>\n",
       "      <td>[{'id': 35, 'name': 'Comedy'}, {'id': 18, 'nam...</td>\n",
       "      <td>NaN</td>\n",
       "      <td>tt0114885</td>\n",
       "      <td>en</td>\n",
       "      <td>Waiting to Exhale</td>\n",
       "      <td>Cheated on, mistreated and stepped on, the wom...</td>\n",
       "      <td>...</td>\n",
       "      <td>[{'iso_639_1': 'en', 'name': 'English'}]</td>\n",
       "      <td>Released</td>\n",
       "      <td>Friends are the people who let you be yourself...</td>\n",
       "      <td>Waiting to Exhale</td>\n",
       "      <td>False</td>\n",
       "      <td>6.1</td>\n",
       "      <td>34.0</td>\n",
       "      <td>Forest Whitaker</td>\n",
       "      <td>['Whitney Houston', 'Angela Bassett', 'Loretta...</td>\n",
       "      <td>both</td>\n",
       "    </tr>\n",
       "    <tr>\n",
       "      <th>11862</th>\n",
       "      <td>4</td>\n",
       "      <td>False</td>\n",
       "      <td>{'id': 96871, 'name': 'Father of the Bride Col...</td>\n",
       "      <td>0</td>\n",
       "      <td>[{'id': 35, 'name': 'Comedy'}]</td>\n",
       "      <td>NaN</td>\n",
       "      <td>tt0113041</td>\n",
       "      <td>en</td>\n",
       "      <td>Father of the Bride Part II</td>\n",
       "      <td>Just when George Banks has recovered from his ...</td>\n",
       "      <td>...</td>\n",
       "      <td>[{'iso_639_1': 'en', 'name': 'English'}]</td>\n",
       "      <td>Released</td>\n",
       "      <td>Just When His World Is Back To Normal... He's ...</td>\n",
       "      <td>Father of the Bride Part II</td>\n",
       "      <td>False</td>\n",
       "      <td>5.7</td>\n",
       "      <td>173.0</td>\n",
       "      <td>Charles Shyer</td>\n",
       "      <td>['Steve Martin', 'Diane Keaton', 'Martin Short...</td>\n",
       "      <td>both</td>\n",
       "    </tr>\n",
       "  </tbody>\n",
       "</table>\n",
       "<p>5 rows × 27 columns</p>\n",
       "</div>"
      ],
      "text/plain": [
       "       Unnamed: 0  adult                              belongs_to_collection  \\\n",
       "id                                                                            \n",
       "862             0  False  {'id': 10194, 'name': 'Toy Story Collection', ...   \n",
       "8844            1  False                                                NaN   \n",
       "15602           2  False  {'id': 119050, 'name': 'Grumpy Old Men Collect...   \n",
       "31357           3  False                                                NaN   \n",
       "11862           4  False  {'id': 96871, 'name': 'Father of the Bride Col...   \n",
       "\n",
       "         budget                                             genres  \\\n",
       "id                                                                   \n",
       "862    30000000  [{'id': 16, 'name': 'Animation'}, {'id': 35, '...   \n",
       "8844   65000000  [{'id': 12, 'name': 'Adventure'}, {'id': 14, '...   \n",
       "15602         0  [{'id': 10749, 'name': 'Romance'}, {'id': 35, ...   \n",
       "31357  16000000  [{'id': 35, 'name': 'Comedy'}, {'id': 18, 'nam...   \n",
       "11862         0                     [{'id': 35, 'name': 'Comedy'}]   \n",
       "\n",
       "                                   homepage    imdb_id original_language  \\\n",
       "id                                                                         \n",
       "862    http://toystory.disney.com/toy-story  tt0114709                en   \n",
       "8844                                    NaN  tt0113497                en   \n",
       "15602                                   NaN  tt0113228                en   \n",
       "31357                                   NaN  tt0114885                en   \n",
       "11862                                   NaN  tt0113041                en   \n",
       "\n",
       "                    original_title  \\\n",
       "id                                   \n",
       "862                      Toy Story   \n",
       "8844                       Jumanji   \n",
       "15602             Grumpier Old Men   \n",
       "31357            Waiting to Exhale   \n",
       "11862  Father of the Bride Part II   \n",
       "\n",
       "                                                overview  ...  \\\n",
       "id                                                        ...   \n",
       "862    Led by Woody, Andy's toys live happily in his ...  ...   \n",
       "8844   When siblings Judy and Peter discover an encha...  ...   \n",
       "15602  A family wedding reignites the ancient feud be...  ...   \n",
       "31357  Cheated on, mistreated and stepped on, the wom...  ...   \n",
       "11862  Just when George Banks has recovered from his ...  ...   \n",
       "\n",
       "                                        spoken_languages    status  \\\n",
       "id                                                                   \n",
       "862             [{'iso_639_1': 'en', 'name': 'English'}]  Released   \n",
       "8844   [{'iso_639_1': 'en', 'name': 'English'}, {'iso...  Released   \n",
       "15602           [{'iso_639_1': 'en', 'name': 'English'}]  Released   \n",
       "31357           [{'iso_639_1': 'en', 'name': 'English'}]  Released   \n",
       "11862           [{'iso_639_1': 'en', 'name': 'English'}]  Released   \n",
       "\n",
       "                                                 tagline  \\\n",
       "id                                                         \n",
       "862                                                  NaN   \n",
       "8844           Roll the dice and unleash the excitement!   \n",
       "15602  Still Yelling. Still Fighting. Still Ready for...   \n",
       "31357  Friends are the people who let you be yourself...   \n",
       "11862  Just When His World Is Back To Normal... He's ...   \n",
       "\n",
       "                             title  video  vote_average  vote_count  \\\n",
       "id                                                                    \n",
       "862                      Toy Story  False           7.7      5415.0   \n",
       "8844                       Jumanji  False           6.9      2413.0   \n",
       "15602             Grumpier Old Men  False           6.5        92.0   \n",
       "31357            Waiting to Exhale  False           6.1        34.0   \n",
       "11862  Father of the Bride Part II  False           5.7       173.0   \n",
       "\n",
       "              director                                       actors_names  \\\n",
       "id                                                                          \n",
       "862      John Lasseter  ['Tom Hanks', 'Tim Allen', 'Don Rickles', 'Jim...   \n",
       "8844      Joe Johnston  ['Robin Williams', 'Jonathan Hyde', 'Kirsten D...   \n",
       "15602    Howard Deutch  ['Walter Matthau', 'Jack Lemmon', 'Ann-Margret...   \n",
       "31357  Forest Whitaker  ['Whitney Houston', 'Angela Bassett', 'Loretta...   \n",
       "11862    Charles Shyer  ['Steve Martin', 'Diane Keaton', 'Martin Short...   \n",
       "\n",
       "      _merge  \n",
       "id            \n",
       "862     both  \n",
       "8844    both  \n",
       "15602   both  \n",
       "31357   both  \n",
       "11862   both  \n",
       "\n",
       "[5 rows x 27 columns]"
      ]
     },
     "execution_count": 2,
     "metadata": {},
     "output_type": "execute_result"
    }
   ],
   "source": [
    "data = pd.read_csv('data\\movies_and_credits.csv', index_col='id', low_memory=False)\n",
    "data.head()"
   ]
  },
  {
   "attachments": {},
   "cell_type": "markdown",
   "metadata": {},
   "source": [
    "Podemos Observar en primera instancia varias cosas.\n",
    "- Hay bastantes faltantes\n",
    "- Tenemos columnas con datos anidados.\n",
    "- hay columnas que no nos sirven."
   ]
  },
  {
   "cell_type": "code",
   "execution_count": 3,
   "metadata": {},
   "outputs": [
    {
     "name": "stdout",
     "output_type": "stream",
     "text": [
      "<class 'pandas.core.frame.DataFrame'>\n",
      "Index: 45542 entries, 862 to 461257\n",
      "Data columns (total 27 columns):\n",
      " #   Column                 Non-Null Count  Dtype  \n",
      "---  ------                 --------------  -----  \n",
      " 0   Unnamed: 0             45542 non-null  int64  \n",
      " 1   adult                  45542 non-null  object \n",
      " 2   belongs_to_collection  4503 non-null   object \n",
      " 3   budget                 45542 non-null  object \n",
      " 4   genres                 45542 non-null  object \n",
      " 5   homepage               7795 non-null   object \n",
      " 6   imdb_id                45525 non-null  object \n",
      " 7   original_language      45531 non-null  object \n",
      " 8   original_title         45542 non-null  object \n",
      " 9   overview               44588 non-null  object \n",
      " 10  popularity             45537 non-null  object \n",
      " 11  poster_path            45156 non-null  object \n",
      " 12  production_companies   45539 non-null  object \n",
      " 13  production_countries   45539 non-null  object \n",
      " 14  release_date           45455 non-null  object \n",
      " 15  revenue                45536 non-null  float64\n",
      " 16  runtime                45279 non-null  float64\n",
      " 17  spoken_languages       45536 non-null  object \n",
      " 18  status                 45455 non-null  object \n",
      " 19  tagline                20439 non-null  object \n",
      " 20  title                  45536 non-null  object \n",
      " 21  video                  45536 non-null  object \n",
      " 22  vote_average           45536 non-null  float64\n",
      " 23  vote_count             45536 non-null  float64\n",
      " 24  director               45538 non-null  object \n",
      " 25  actors_names           45538 non-null  object \n",
      " 26  _merge                 45542 non-null  object \n",
      "dtypes: float64(4), int64(1), object(22)\n",
      "memory usage: 9.7+ MB\n"
     ]
    }
   ],
   "source": [
    "#Hacemos un info al dataset para una vista general.\n",
    "data.info()"
   ]
  },
  {
   "attachments": {},
   "cell_type": "markdown",
   "metadata": {},
   "source": [
    "Con el uso de info() podemos observar que varias columnas no tienen el tipo de dato bien definido. Nos encargaremos de esto mas tarde."
   ]
  },
  {
   "cell_type": "code",
   "execution_count": 4,
   "metadata": {},
   "outputs": [],
   "source": [
    "#Eliminamos posibles duplicados.\n",
    "df = data.drop_duplicates(subset=['title'])"
   ]
  },
  {
   "attachments": {},
   "cell_type": "markdown",
   "metadata": {},
   "source": [
    "Eliminamos las siguientes columnas que segun la documentacion no seran necesarias: ['video', 'imdb_id', 'adult', 'original_title', 'vote_count', 'poster_path', 'homepage']\n"
   ]
  },
  {
   "cell_type": "code",
   "execution_count": 5,
   "metadata": {},
   "outputs": [],
   "source": [
    "cols_drop = ['video','Unnamed: 0', '_merge', 'imdb_id', 'adult', 'original_title', 'poster_path', 'homepage']\n",
    "df = df.drop(cols_drop, axis=1)"
   ]
  },
  {
   "attachments": {},
   "cell_type": "markdown",
   "metadata": {},
   "source": [
    "Procedemos a chequear los valores faltantes en cada columna."
   ]
  },
  {
   "cell_type": "code",
   "execution_count": 6,
   "metadata": {},
   "outputs": [],
   "source": [
    "#lista de columnas actuales del df\n",
    "columnas_df = ['belongs_to_collection', 'budget', 'genres', 'original_language',\n",
    "       'overview', 'popularity', 'production_companies',\n",
    "       'production_countries', 'release_date', 'revenue', 'runtime',\n",
    "       'spoken_languages', 'status', 'tagline', 'title', 'vote_average']"
   ]
  },
  {
   "cell_type": "code",
   "execution_count": 7,
   "metadata": {},
   "outputs": [
    {
     "data": {
      "text/plain": [
       "['belongs_to_collection',\n",
       " 'original_language',\n",
       " 'overview',\n",
       " 'popularity',\n",
       " 'production_companies',\n",
       " 'production_countries',\n",
       " 'release_date',\n",
       " 'revenue',\n",
       " 'runtime',\n",
       " 'spoken_languages',\n",
       " 'status',\n",
       " 'tagline',\n",
       " 'title',\n",
       " 'vote_average']"
      ]
     },
     "execution_count": 7,
     "metadata": {},
     "output_type": "execute_result"
    }
   ],
   "source": [
    "#lista de columnas con faltantes.\n",
    "cols_with_missing = [column for column in columnas_df if df[column].isnull().sum() != 0]\n",
    "cols_with_missing"
   ]
  },
  {
   "attachments": {},
   "cell_type": "markdown",
   "metadata": {},
   "source": [
    "por el momento eliminaremos las filas con datos nulos en title, ya que no aportaran informacion relevante."
   ]
  },
  {
   "cell_type": "code",
   "execution_count": 8,
   "metadata": {},
   "outputs": [],
   "source": [
    "df.dropna(subset='title', inplace=True)"
   ]
  },
  {
   "attachments": {},
   "cell_type": "markdown",
   "metadata": {},
   "source": [
    "Eliminamos los faltantes y modificaremos el tipo de la columna \"release_date\" para poder trabajar correctamente con esta columna."
   ]
  },
  {
   "cell_type": "code",
   "execution_count": 9,
   "metadata": {},
   "outputs": [
    {
     "data": {
      "text/plain": [
       "id\n",
       "862      1995\n",
       "8844     1995\n",
       "15602    1995\n",
       "31357    1995\n",
       "11862    1995\n",
       "Name: release_year, dtype: int32"
      ]
     },
     "execution_count": 9,
     "metadata": {},
     "output_type": "execute_result"
    }
   ],
   "source": [
    "df.dropna(subset=['release_date'], inplace=True)\n",
    "df['release_date'] = pd.to_datetime(df['release_date'])\n",
    "df['release_year'] = df['release_date'].dt.year\n",
    "df['release_year'].head()"
   ]
  },
  {
   "attachments": {},
   "cell_type": "markdown",
   "metadata": {},
   "source": [
    "Observemos una vez mas info() para ver con que seguimos."
   ]
  },
  {
   "cell_type": "code",
   "execution_count": 10,
   "metadata": {},
   "outputs": [
    {
     "name": "stdout",
     "output_type": "stream",
     "text": [
      "<class 'pandas.core.frame.DataFrame'>\n",
      "Index: 42196 entries, 862 to 461257\n",
      "Data columns (total 20 columns):\n",
      " #   Column                 Non-Null Count  Dtype         \n",
      "---  ------                 --------------  -----         \n",
      " 0   belongs_to_collection  4356 non-null   object        \n",
      " 1   budget                 42196 non-null  object        \n",
      " 2   genres                 42196 non-null  object        \n",
      " 3   original_language      42185 non-null  object        \n",
      " 4   overview               41294 non-null  object        \n",
      " 5   popularity             42196 non-null  object        \n",
      " 6   production_companies   42196 non-null  object        \n",
      " 7   production_countries   42196 non-null  object        \n",
      " 8   release_date           42196 non-null  datetime64[ns]\n",
      " 9   revenue                42196 non-null  float64       \n",
      " 10  runtime                41957 non-null  float64       \n",
      " 11  spoken_languages       42196 non-null  object        \n",
      " 12  status                 42121 non-null  object        \n",
      " 13  tagline                19039 non-null  object        \n",
      " 14  title                  42196 non-null  object        \n",
      " 15  vote_average           42196 non-null  float64       \n",
      " 16  vote_count             42196 non-null  float64       \n",
      " 17  director               42195 non-null  object        \n",
      " 18  actors_names           42195 non-null  object        \n",
      " 19  release_year           42196 non-null  int32         \n",
      "dtypes: datetime64[ns](1), float64(4), int32(1), object(14)\n",
      "memory usage: 6.6+ MB\n"
     ]
    }
   ],
   "source": [
    "df.info()"
   ]
  },
  {
   "attachments": {},
   "cell_type": "markdown",
   "metadata": {},
   "source": [
    "Ahora vamos a convertir los valores numericos a tipo float o int. podemos observar 2 columnas: 'budget', 'popularity'"
   ]
  },
  {
   "cell_type": "code",
   "execution_count": 11,
   "metadata": {},
   "outputs": [],
   "source": [
    "df['budget'] = pd.to_numeric(df['budget'], downcast='float')\n",
    "df['popularity'] = pd.to_numeric(df['popularity'], downcast='float')"
   ]
  },
  {
   "attachments": {},
   "cell_type": "markdown",
   "metadata": {},
   "source": [
    "Ahora que tenemos las columnas con el tipo que corresponde podemos crear una nueva columna llamada return con las columnas \"budget\" y \"revenue\""
   ]
  },
  {
   "cell_type": "code",
   "execution_count": 12,
   "metadata": {},
   "outputs": [],
   "source": [
    "df['return'] = df['revenue'] - df['budget']\n",
    "df['return'].fillna(0, inplace=True)"
   ]
  },
  {
   "attachments": {},
   "cell_type": "markdown",
   "metadata": {},
   "source": [
    "Tambien podemos aplicar un trim a todas las columnas de tipo objeto para evitar espacios innecesarios."
   ]
  },
  {
   "cell_type": "code",
   "execution_count": 13,
   "metadata": {},
   "outputs": [],
   "source": [
    "#columnas acutales del df\n",
    "columnas_df2 = ['belongs_to_collection', 'budget', 'genres', 'original_language',\n",
    "       'overview', 'popularity', 'production_companies',\n",
    "       'production_countries', 'release_date', 'revenue', 'runtime',\n",
    "       'spoken_languages', 'status', 'tagline', 'title', 'vote_average',\n",
    "       'release_year', 'return']\n",
    "\n",
    "object_cols = [columna for columna in columnas_df if df[columna].dtype == 'O']\n",
    "\n",
    "for i in object_cols:\n",
    "    df[i].str.strip()"
   ]
  },
  {
   "attachments": {},
   "cell_type": "markdown",
   "metadata": {},
   "source": [
    "Por el momento todo va correctamente. ahora me gustaria desanidar las molestas columnas que tenemos. Para esto lo haremos en 2 partes:\n",
    "- primero usaremos la columna \"belongs_to_collection\" ya que posee un string con un solo diccionario dentro.\n",
    "- luego las columnas \"production_companies\", \"production_countries\", \"genres\", \"spoken_languages\", que tienen un formato de lista con varios diccionarios dentro."
   ]
  },
  {
   "cell_type": "code",
   "execution_count": null,
   "metadata": {},
   "outputs": [],
   "source": []
  },
  {
   "cell_type": "code",
   "execution_count": 14,
   "metadata": {},
   "outputs": [
    {
     "data": {
      "text/html": [
       "<div>\n",
       "<style scoped>\n",
       "    .dataframe tbody tr th:only-of-type {\n",
       "        vertical-align: middle;\n",
       "    }\n",
       "\n",
       "    .dataframe tbody tr th {\n",
       "        vertical-align: top;\n",
       "    }\n",
       "\n",
       "    .dataframe thead th {\n",
       "        text-align: right;\n",
       "    }\n",
       "</style>\n",
       "<table border=\"1\" class=\"dataframe\">\n",
       "  <thead>\n",
       "    <tr style=\"text-align: right;\">\n",
       "      <th></th>\n",
       "      <th>belongs_to_collection</th>\n",
       "      <th>budget</th>\n",
       "      <th>genres</th>\n",
       "      <th>original_language</th>\n",
       "      <th>overview</th>\n",
       "      <th>popularity</th>\n",
       "      <th>production_companies</th>\n",
       "      <th>production_countries</th>\n",
       "      <th>release_date</th>\n",
       "      <th>revenue</th>\n",
       "      <th>...</th>\n",
       "      <th>spoken_languages</th>\n",
       "      <th>status</th>\n",
       "      <th>tagline</th>\n",
       "      <th>title</th>\n",
       "      <th>vote_average</th>\n",
       "      <th>vote_count</th>\n",
       "      <th>director</th>\n",
       "      <th>actors_names</th>\n",
       "      <th>release_year</th>\n",
       "      <th>return</th>\n",
       "    </tr>\n",
       "    <tr>\n",
       "      <th>id</th>\n",
       "      <th></th>\n",
       "      <th></th>\n",
       "      <th></th>\n",
       "      <th></th>\n",
       "      <th></th>\n",
       "      <th></th>\n",
       "      <th></th>\n",
       "      <th></th>\n",
       "      <th></th>\n",
       "      <th></th>\n",
       "      <th></th>\n",
       "      <th></th>\n",
       "      <th></th>\n",
       "      <th></th>\n",
       "      <th></th>\n",
       "      <th></th>\n",
       "      <th></th>\n",
       "      <th></th>\n",
       "      <th></th>\n",
       "      <th></th>\n",
       "      <th></th>\n",
       "    </tr>\n",
       "  </thead>\n",
       "  <tbody>\n",
       "    <tr>\n",
       "      <th>862</th>\n",
       "      <td>Toy Story Collection</td>\n",
       "      <td>30000000.0</td>\n",
       "      <td>[{'id': 16, 'name': 'Animation'}, {'id': 35, '...</td>\n",
       "      <td>en</td>\n",
       "      <td>Led by Woody, Andy's toys live happily in his ...</td>\n",
       "      <td>21.946943</td>\n",
       "      <td>[{'name': 'Pixar Animation Studios', 'id': 3}]</td>\n",
       "      <td>[{'iso_3166_1': 'US', 'name': 'United States o...</td>\n",
       "      <td>1995-10-30</td>\n",
       "      <td>373554033.0</td>\n",
       "      <td>...</td>\n",
       "      <td>[{'iso_639_1': 'en', 'name': 'English'}]</td>\n",
       "      <td>Released</td>\n",
       "      <td>NaN</td>\n",
       "      <td>Toy Story</td>\n",
       "      <td>7.7</td>\n",
       "      <td>5415.0</td>\n",
       "      <td>John Lasseter</td>\n",
       "      <td>['Tom Hanks', 'Tim Allen', 'Don Rickles', 'Jim...</td>\n",
       "      <td>1995</td>\n",
       "      <td>343554033.0</td>\n",
       "    </tr>\n",
       "  </tbody>\n",
       "</table>\n",
       "<p>1 rows × 21 columns</p>\n",
       "</div>"
      ],
      "text/plain": [
       "    belongs_to_collection      budget  \\\n",
       "id                                      \n",
       "862  Toy Story Collection  30000000.0   \n",
       "\n",
       "                                                genres original_language  \\\n",
       "id                                                                         \n",
       "862  [{'id': 16, 'name': 'Animation'}, {'id': 35, '...                en   \n",
       "\n",
       "                                              overview  popularity  \\\n",
       "id                                                                   \n",
       "862  Led by Woody, Andy's toys live happily in his ...   21.946943   \n",
       "\n",
       "                               production_companies  \\\n",
       "id                                                    \n",
       "862  [{'name': 'Pixar Animation Studios', 'id': 3}]   \n",
       "\n",
       "                                  production_countries release_date  \\\n",
       "id                                                                    \n",
       "862  [{'iso_3166_1': 'US', 'name': 'United States o...   1995-10-30   \n",
       "\n",
       "         revenue  ...                          spoken_languages    status  \\\n",
       "id                ...                                                       \n",
       "862  373554033.0  ...  [{'iso_639_1': 'en', 'name': 'English'}]  Released   \n",
       "\n",
       "    tagline      title vote_average  vote_count       director  \\\n",
       "id                                                               \n",
       "862     NaN  Toy Story          7.7      5415.0  John Lasseter   \n",
       "\n",
       "                                          actors_names release_year  \\\n",
       "id                                                                    \n",
       "862  ['Tom Hanks', 'Tim Allen', 'Don Rickles', 'Jim...         1995   \n",
       "\n",
       "          return  \n",
       "id                \n",
       "862  343554033.0  \n",
       "\n",
       "[1 rows x 21 columns]"
      ]
     },
     "execution_count": 14,
     "metadata": {},
     "output_type": "execute_result"
    }
   ],
   "source": [
    "#Primero rellenamos los datos faltantes con algo que podamos leer\n",
    "df['belongs_to_collection'].fillna('N/D', inplace=True)\n",
    "\n",
    "#Creamos una lista vacia para reunir los nombres\n",
    "collection_names = []\n",
    "#Creamos un bucle para iterar por el dataframe\n",
    "for i in range(0, df.shape[0]):\n",
    "    #inicializamos una variable que contendra cada fila.\n",
    "    fila = df.iloc[i, 0]\n",
    "    #si fila es nulo:\n",
    "    if fila == 'N/D':\n",
    "        #insertamos el valor nulo en el dataframe.\n",
    "        collection_names.append(fila)\n",
    "    else:\n",
    "        #Evaluamos la fila para que lo tome como un diccionario.\n",
    "        fila = eval(fila)\n",
    "        #insertamos el valor de la llave key de nuestros diccionarios.\n",
    "        collection_names.append(fila['name'])\n",
    "\n",
    "#creamos un diccionario con los valores para luego hacer el dataframe.\n",
    "collection_dict = {'belongs_to_collection': collection_names}\n",
    "#obtenemos los indices de nuestro dataframe\n",
    "df_indices = df.index\n",
    "#lo convertimos en un dataframe\n",
    "df_btc = pd.DataFrame(collection_dict, index=df_indices)\n",
    "#cambiamos la columna actual del df por la nueva columna creada.\n",
    "df['belongs_to_collection'] = df_btc\n",
    "df.head(1)"
   ]
  },
  {
   "cell_type": "code",
   "execution_count": null,
   "metadata": {},
   "outputs": [],
   "source": []
  },
  {
   "attachments": {},
   "cell_type": "markdown",
   "metadata": {},
   "source": [
    "Podemos ver que con la columna \"belongs_to_collection\" quedo correctamente. para las proximas columnas usaremos una funcion."
   ]
  },
  {
   "attachments": {},
   "cell_type": "markdown",
   "metadata": {},
   "source": [
    "Pero primero tenemos que limpiar estas 4 columnas."
   ]
  },
  {
   "cell_type": "code",
   "execution_count": 15,
   "metadata": {},
   "outputs": [],
   "source": [
    "#Imputamos los faltantes\n",
    "df['genres'].fillna('N/D', inplace=True)\n",
    "df['production_companies'].fillna('N/D', inplace=True)\n",
    "df['production_countries'].fillna('N/D', inplace=True)\n",
    "df['spoken_languages'].fillna('N/D', inplace=True)\n",
    "\n",
    "#cambiamos corchetes vacios por N/D\n",
    "df['genres'].replace('[]', 'N/D', inplace=True)\n",
    "df['production_companies'].replace('[]', 'N/D', inplace=True)\n",
    "df['production_countries'].replace('[]', 'N/D', inplace=True)\n",
    "df['spoken_languages'].replace('[]', 'N/D', inplace=True)\n"
   ]
  },
  {
   "attachments": {},
   "cell_type": "markdown",
   "metadata": {},
   "source": [
    "Ahora si creamos la funcion."
   ]
  },
  {
   "cell_type": "code",
   "execution_count": 16,
   "metadata": {},
   "outputs": [],
   "source": [
    "def desanidar_columnas(indice_columna, nombre_columna):\n",
    "    \"\"\"\n",
    "    Esta funcion se utiliza para desanidar una columna\n",
    "    que contenga una lista con diccionarios y dentro de esos\n",
    "    diccionarios la key: 'name'. devolviendo un dataframe con\n",
    "    los nombres.\n",
    "\n",
    "    parametros:\n",
    "    -------\n",
    "    indice_columna: el indice de la columna del dataframe a desanidar.\n",
    "    nombre_columna: el nombre de la columna que contiene los nombres en\n",
    "    el dataframe de salida.\n",
    "    \"\"\"\n",
    "    #creamos una lista vacia donde guardaremos los nombres\n",
    "    columnas_names = []\n",
    "    #Iteramos sobre el df\n",
    "    for i in range(0, df.shape[0]):\n",
    "        #instanciamos la fila:\n",
    "        fila = df.iloc[i, indice_columna]\n",
    "        #si la fila es nulo\n",
    "        if fila == 'N/D':\n",
    "            #aniadimos la fila y paramos el loop\n",
    "            columnas_names.append(fila)\n",
    "        #sino\n",
    "        else:\n",
    "            #convertimos de str a list\n",
    "            fila = eval(fila)\n",
    "            #guardaremos los nombres de este indice en otra sublista\n",
    "            fila_names = []\n",
    "            #iteramos la lista\n",
    "            for i in fila:\n",
    "                #agregamos los nombres\n",
    "                fila_names.append(i['name'])\n",
    "            #agregamos la lista de nombres de la fila a nuestra lista oficial.\n",
    "            columnas_names.append(fila_names)\n",
    "\n",
    "    #creamos el diccionario con los datos\n",
    "    diccionario = {nombre_columna: columnas_names}\n",
    "    #creamos y devolvemos el dataframe\n",
    "    dataframe = pd.DataFrame(diccionario, index=df_indices)\n",
    "    return dataframe"
   ]
  },
  {
   "attachments": {},
   "cell_type": "markdown",
   "metadata": {},
   "source": [
    "Ahora que tenemos nuestra funcion se la aplicamos a las columnas"
   ]
  },
  {
   "cell_type": "code",
   "execution_count": 17,
   "metadata": {},
   "outputs": [
    {
     "data": {
      "text/html": [
       "<div>\n",
       "<style scoped>\n",
       "    .dataframe tbody tr th:only-of-type {\n",
       "        vertical-align: middle;\n",
       "    }\n",
       "\n",
       "    .dataframe tbody tr th {\n",
       "        vertical-align: top;\n",
       "    }\n",
       "\n",
       "    .dataframe thead th {\n",
       "        text-align: right;\n",
       "    }\n",
       "</style>\n",
       "<table border=\"1\" class=\"dataframe\">\n",
       "  <thead>\n",
       "    <tr style=\"text-align: right;\">\n",
       "      <th></th>\n",
       "      <th>belongs_to_collection</th>\n",
       "      <th>budget</th>\n",
       "      <th>genres</th>\n",
       "      <th>original_language</th>\n",
       "      <th>overview</th>\n",
       "      <th>popularity</th>\n",
       "      <th>production_companies</th>\n",
       "      <th>production_countries</th>\n",
       "      <th>release_date</th>\n",
       "      <th>revenue</th>\n",
       "      <th>...</th>\n",
       "      <th>spoken_languages</th>\n",
       "      <th>status</th>\n",
       "      <th>tagline</th>\n",
       "      <th>title</th>\n",
       "      <th>vote_average</th>\n",
       "      <th>vote_count</th>\n",
       "      <th>director</th>\n",
       "      <th>actors_names</th>\n",
       "      <th>release_year</th>\n",
       "      <th>return</th>\n",
       "    </tr>\n",
       "    <tr>\n",
       "      <th>id</th>\n",
       "      <th></th>\n",
       "      <th></th>\n",
       "      <th></th>\n",
       "      <th></th>\n",
       "      <th></th>\n",
       "      <th></th>\n",
       "      <th></th>\n",
       "      <th></th>\n",
       "      <th></th>\n",
       "      <th></th>\n",
       "      <th></th>\n",
       "      <th></th>\n",
       "      <th></th>\n",
       "      <th></th>\n",
       "      <th></th>\n",
       "      <th></th>\n",
       "      <th></th>\n",
       "      <th></th>\n",
       "      <th></th>\n",
       "      <th></th>\n",
       "      <th></th>\n",
       "    </tr>\n",
       "  </thead>\n",
       "  <tbody>\n",
       "    <tr>\n",
       "      <th>862</th>\n",
       "      <td>Toy Story Collection</td>\n",
       "      <td>30000000.0</td>\n",
       "      <td>[Animation, Comedy, Family]</td>\n",
       "      <td>en</td>\n",
       "      <td>Led by Woody, Andy's toys live happily in his ...</td>\n",
       "      <td>21.946943</td>\n",
       "      <td>[Pixar Animation Studios]</td>\n",
       "      <td>[United States of America]</td>\n",
       "      <td>1995-10-30</td>\n",
       "      <td>373554033.0</td>\n",
       "      <td>...</td>\n",
       "      <td>[English]</td>\n",
       "      <td>Released</td>\n",
       "      <td>NaN</td>\n",
       "      <td>Toy Story</td>\n",
       "      <td>7.7</td>\n",
       "      <td>5415.0</td>\n",
       "      <td>John Lasseter</td>\n",
       "      <td>['Tom Hanks', 'Tim Allen', 'Don Rickles', 'Jim...</td>\n",
       "      <td>1995</td>\n",
       "      <td>343554033.0</td>\n",
       "    </tr>\n",
       "  </tbody>\n",
       "</table>\n",
       "<p>1 rows × 21 columns</p>\n",
       "</div>"
      ],
      "text/plain": [
       "    belongs_to_collection      budget                       genres  \\\n",
       "id                                                                   \n",
       "862  Toy Story Collection  30000000.0  [Animation, Comedy, Family]   \n",
       "\n",
       "    original_language                                           overview  \\\n",
       "id                                                                         \n",
       "862                en  Led by Woody, Andy's toys live happily in his ...   \n",
       "\n",
       "     popularity       production_companies        production_countries  \\\n",
       "id                                                                       \n",
       "862   21.946943  [Pixar Animation Studios]  [United States of America]   \n",
       "\n",
       "    release_date      revenue  ...  spoken_languages    status tagline  \\\n",
       "id                             ...                                       \n",
       "862   1995-10-30  373554033.0  ...         [English]  Released     NaN   \n",
       "\n",
       "         title vote_average  vote_count       director  \\\n",
       "id                                                       \n",
       "862  Toy Story          7.7      5415.0  John Lasseter   \n",
       "\n",
       "                                          actors_names release_year  \\\n",
       "id                                                                    \n",
       "862  ['Tom Hanks', 'Tim Allen', 'Don Rickles', 'Jim...         1995   \n",
       "\n",
       "          return  \n",
       "id                \n",
       "862  343554033.0  \n",
       "\n",
       "[1 rows x 21 columns]"
      ]
     },
     "execution_count": 17,
     "metadata": {},
     "output_type": "execute_result"
    }
   ],
   "source": [
    "#creamos los dataframes por columna\n",
    "df_gen = desanidar_columnas(2, 'genres')\n",
    "df_pc = desanidar_columnas(6, 'production_companies')\n",
    "df_count = desanidar_columnas(7, 'production_countries')\n",
    "df_spk = desanidar_columnas(11, 'spoken_languages')\n",
    "\n",
    "#los reemplazamos en el datafram\n",
    "df.genres = df_gen\n",
    "df.production_companies = df_pc\n",
    "df.production_countries = df_count\n",
    "df.spoken_languages = df_spk\n",
    "df.head(1)"
   ]
  },
  {
   "attachments": {},
   "cell_type": "markdown",
   "metadata": {},
   "source": [
    "Ahora todas nuestras columnas se ven correctamente. revisemos una vez mas info() para ver que nos falta."
   ]
  },
  {
   "cell_type": "code",
   "execution_count": 18,
   "metadata": {},
   "outputs": [
    {
     "name": "stdout",
     "output_type": "stream",
     "text": [
      "<class 'pandas.core.frame.DataFrame'>\n",
      "Index: 42196 entries, 862 to 461257\n",
      "Data columns (total 21 columns):\n",
      " #   Column                 Non-Null Count  Dtype         \n",
      "---  ------                 --------------  -----         \n",
      " 0   belongs_to_collection  42196 non-null  object        \n",
      " 1   budget                 42196 non-null  float64       \n",
      " 2   genres                 42196 non-null  object        \n",
      " 3   original_language      42185 non-null  object        \n",
      " 4   overview               41294 non-null  object        \n",
      " 5   popularity             42196 non-null  float32       \n",
      " 6   production_companies   42196 non-null  object        \n",
      " 7   production_countries   42196 non-null  object        \n",
      " 8   release_date           42196 non-null  datetime64[ns]\n",
      " 9   revenue                42196 non-null  float64       \n",
      " 10  runtime                41957 non-null  float64       \n",
      " 11  spoken_languages       42196 non-null  object        \n",
      " 12  status                 42121 non-null  object        \n",
      " 13  tagline                19039 non-null  object        \n",
      " 14  title                  42196 non-null  object        \n",
      " 15  vote_average           42196 non-null  float64       \n",
      " 16  vote_count             42196 non-null  float64       \n",
      " 17  director               42195 non-null  object        \n",
      " 18  actors_names           42195 non-null  object        \n",
      " 19  release_year           42196 non-null  int32         \n",
      " 20  return                 42196 non-null  float64       \n",
      "dtypes: datetime64[ns](1), float32(1), float64(6), int32(1), object(12)\n",
      "memory usage: 6.8+ MB\n"
     ]
    }
   ],
   "source": [
    "df.info()"
   ]
  },
  {
   "attachments": {},
   "cell_type": "markdown",
   "metadata": {},
   "source": [
    "Solo nos quedan 5 columnas con faltantes. los imputemos para ya dar por terminado el ETL."
   ]
  },
  {
   "cell_type": "code",
   "execution_count": 19,
   "metadata": {},
   "outputs": [],
   "source": [
    "#reemplazamos por el mas comun.\n",
    "df['original_language'].fillna('en', inplace=True)\n",
    "#reemplazamos sin data\n",
    "df['overview'].fillna('N/D', inplace=True)\n",
    "#reemplazamos por el promedio\n",
    "df['runtime'].fillna(df['runtime'].mean(), inplace=True)\n",
    "#reemplazamos por el mas comun.\n",
    "df['status'].fillna('Released', inplace=True)\n",
    "#reemplazamos sin data.\n",
    "df['tagline'].fillna('N/D', inplace=True)"
   ]
  },
  {
   "cell_type": "code",
   "execution_count": 20,
   "metadata": {},
   "outputs": [
    {
     "name": "stdout",
     "output_type": "stream",
     "text": [
      "<class 'pandas.core.series.Series'>\n",
      "Index: 42196 entries, 862 to 461257\n",
      "Series name: actors_names\n",
      "Non-Null Count  Dtype \n",
      "--------------  ----- \n",
      "42196 non-null  object\n",
      "dtypes: object(1)\n",
      "memory usage: 659.3+ KB\n"
     ]
    }
   ],
   "source": [
    "df.actors_names.replace('[]', 'N/D', inplace=True)\n",
    "df.actors_names.fillna('N/D', inplace=True)\n",
    "df.actors_names.info()"
   ]
  },
  {
   "attachments": {},
   "cell_type": "markdown",
   "metadata": {},
   "source": [
    "Ahora si podemos guardar nuestra base de datos tratada!"
   ]
  },
  {
   "cell_type": "code",
   "execution_count": 21,
   "metadata": {},
   "outputs": [],
   "source": [
    "df.to_csv('data/peliculas_ETL.csv')"
   ]
  }
 ],
 "metadata": {
  "kernelspec": {
   "display_name": "proyecto_integrador_1",
   "language": "python",
   "name": "python3"
  },
  "language_info": {
   "codemirror_mode": {
    "name": "ipython",
    "version": 3
   },
   "file_extension": ".py",
   "mimetype": "text/x-python",
   "name": "python",
   "nbconvert_exporter": "python",
   "pygments_lexer": "ipython3",
   "version": "3.11.1"
  },
  "orig_nbformat": 4
 },
 "nbformat": 4,
 "nbformat_minor": 2
}
