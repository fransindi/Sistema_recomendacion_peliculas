{
 "cells": [
  {
   "attachments": {},
   "cell_type": "markdown",
   "metadata": {},
   "source": [
    "# Etapa de EDA."
   ]
  },
  {
   "attachments": {},
   "cell_type": "markdown",
   "metadata": {},
   "source": [
    "#### Este proceso lo haremos un poco por encima ya que sabemos lo que nos interesa. el promedio de votos, el titulo y el resumen de la pelicula. ya que con eso podremos preparar nuestro modelo de machine learning. Aun asi, exploremos un poco estos datos"
   ]
  },
  {
   "attachments": {},
   "cell_type": "markdown",
   "metadata": {},
   "source": [
    "En este archivo crearemos un dataframe al estilo doomies de los generos que poseemos."
   ]
  },
  {
   "attachments": {},
   "cell_type": "markdown",
   "metadata": {},
   "source": [
    "Ya que me interesa saber cuales son los generos mas populares."
   ]
  },
  {
   "attachments": {},
   "cell_type": "markdown",
   "metadata": {},
   "source": [
    "Importamos nuestras librerias."
   ]
  },
  {
   "cell_type": "code",
   "execution_count": 62,
   "metadata": {},
   "outputs": [],
   "source": [
    "import pandas as pd\n",
    "import numpy as np\n",
    "import matplotlib.pyplot as plt\n",
    "import seaborn as sns\n",
    "plt.style.use('ggplot')"
   ]
  },
  {
   "attachments": {},
   "cell_type": "markdown",
   "metadata": {},
   "source": [
    "Traemos el dataframe preprocesado."
   ]
  },
  {
   "cell_type": "code",
   "execution_count": 63,
   "metadata": {},
   "outputs": [
    {
     "name": "stdout",
     "output_type": "stream",
     "text": [
      "<class 'pandas.core.frame.DataFrame'>\n",
      "Index: 42196 entries, 862 to 461257\n",
      "Data columns (total 21 columns):\n",
      " #   Column                 Non-Null Count  Dtype  \n",
      "---  ------                 --------------  -----  \n",
      " 0   belongs_to_collection  42196 non-null  object \n",
      " 1   budget                 42196 non-null  float64\n",
      " 2   genres                 42196 non-null  object \n",
      " 3   original_language      42196 non-null  object \n",
      " 4   overview               42196 non-null  object \n",
      " 5   popularity             42196 non-null  float64\n",
      " 6   production_companies   42196 non-null  object \n",
      " 7   production_countries   42196 non-null  object \n",
      " 8   release_date           42196 non-null  object \n",
      " 9   revenue                42196 non-null  float64\n",
      " 10  runtime                42196 non-null  float64\n",
      " 11  spoken_languages       42196 non-null  object \n",
      " 12  status                 42196 non-null  object \n",
      " 13  tagline                42196 non-null  object \n",
      " 14  title                  42196 non-null  object \n",
      " 15  vote_average           42196 non-null  float64\n",
      " 16  vote_count             42196 non-null  float64\n",
      " 17  director               42195 non-null  object \n",
      " 18  actors_names           42196 non-null  object \n",
      " 19  release_year           42196 non-null  int64  \n",
      " 20  return                 42196 non-null  float64\n",
      "dtypes: float64(7), int64(1), object(13)\n",
      "memory usage: 7.1+ MB\n"
     ]
    }
   ],
   "source": [
    "data = pd.read_csv('data/peliculas_ETL.csv', low_memory=False, index_col='id')\n",
    "df = data.copy()\n",
    "df = df.drop_duplicates()\n",
    "df.info()"
   ]
  },
  {
   "attachments": {},
   "cell_type": "markdown",
   "metadata": {},
   "source": [
    "Podemos observar que la columna release_date esta de nuevo como tipo object, pero como no nos hara falta, la eliminemos."
   ]
  },
  {
   "cell_type": "code",
   "execution_count": 64,
   "metadata": {},
   "outputs": [],
   "source": [
    "df_index = df.reset_index()\n",
    "df.reset_index(inplace=True)"
   ]
  },
  {
   "cell_type": "code",
   "execution_count": 65,
   "metadata": {},
   "outputs": [
    {
     "data": {
      "text/html": [
       "<div>\n",
       "<style scoped>\n",
       "    .dataframe tbody tr th:only-of-type {\n",
       "        vertical-align: middle;\n",
       "    }\n",
       "\n",
       "    .dataframe tbody tr th {\n",
       "        vertical-align: top;\n",
       "    }\n",
       "\n",
       "    .dataframe thead th {\n",
       "        text-align: right;\n",
       "    }\n",
       "</style>\n",
       "<table border=\"1\" class=\"dataframe\">\n",
       "  <thead>\n",
       "    <tr style=\"text-align: right;\">\n",
       "      <th></th>\n",
       "      <th>id</th>\n",
       "      <th>budget</th>\n",
       "      <th>popularity</th>\n",
       "      <th>revenue</th>\n",
       "      <th>runtime</th>\n",
       "      <th>vote_average</th>\n",
       "      <th>vote_count</th>\n",
       "      <th>release_year</th>\n",
       "      <th>return</th>\n",
       "    </tr>\n",
       "  </thead>\n",
       "  <tbody>\n",
       "    <tr>\n",
       "      <th>count</th>\n",
       "      <td>42196.000000</td>\n",
       "      <td>4.219600e+04</td>\n",
       "      <td>42196.000000</td>\n",
       "      <td>4.219600e+04</td>\n",
       "      <td>42196.000000</td>\n",
       "      <td>42196.000000</td>\n",
       "      <td>42196.000000</td>\n",
       "      <td>42196.000000</td>\n",
       "      <td>4.219600e+04</td>\n",
       "    </tr>\n",
       "    <tr>\n",
       "      <th>mean</th>\n",
       "      <td>106669.904896</td>\n",
       "      <td>4.160088e+06</td>\n",
       "      <td>2.914097</td>\n",
       "      <td>1.116670e+07</td>\n",
       "      <td>93.853302</td>\n",
       "      <td>5.631261</td>\n",
       "      <td>109.391720</td>\n",
       "      <td>1991.914399</td>\n",
       "      <td>7.095609e+04</td>\n",
       "    </tr>\n",
       "    <tr>\n",
       "      <th>std</th>\n",
       "      <td>111704.740881</td>\n",
       "      <td>1.721499e+07</td>\n",
       "      <td>5.744661</td>\n",
       "      <td>6.377178e+07</td>\n",
       "      <td>37.578123</td>\n",
       "      <td>1.921395</td>\n",
       "      <td>489.341742</td>\n",
       "      <td>23.839319</td>\n",
       "      <td>7.745654e+06</td>\n",
       "    </tr>\n",
       "    <tr>\n",
       "      <th>min</th>\n",
       "      <td>2.000000</td>\n",
       "      <td>0.000000e+00</td>\n",
       "      <td>0.000000</td>\n",
       "      <td>0.000000e+00</td>\n",
       "      <td>0.000000</td>\n",
       "      <td>0.000000</td>\n",
       "      <td>0.000000</td>\n",
       "      <td>1874.000000</td>\n",
       "      <td>-1.000000e+02</td>\n",
       "    </tr>\n",
       "    <tr>\n",
       "      <th>25%</th>\n",
       "      <td>25792.000000</td>\n",
       "      <td>0.000000e+00</td>\n",
       "      <td>0.387424</td>\n",
       "      <td>0.000000e+00</td>\n",
       "      <td>85.000000</td>\n",
       "      <td>5.000000</td>\n",
       "      <td>3.000000</td>\n",
       "      <td>1978.000000</td>\n",
       "      <td>0.000000e+00</td>\n",
       "    </tr>\n",
       "    <tr>\n",
       "      <th>50%</th>\n",
       "      <td>58390.500000</td>\n",
       "      <td>0.000000e+00</td>\n",
       "      <td>1.136089</td>\n",
       "      <td>0.000000e+00</td>\n",
       "      <td>95.000000</td>\n",
       "      <td>6.000000</td>\n",
       "      <td>10.000000</td>\n",
       "      <td>2001.000000</td>\n",
       "      <td>0.000000e+00</td>\n",
       "    </tr>\n",
       "    <tr>\n",
       "      <th>75%</th>\n",
       "      <td>152939.250000</td>\n",
       "      <td>0.000000e+00</td>\n",
       "      <td>3.717885</td>\n",
       "      <td>0.000000e+00</td>\n",
       "      <td>106.000000</td>\n",
       "      <td>6.800000</td>\n",
       "      <td>35.000000</td>\n",
       "      <td>2010.000000</td>\n",
       "      <td>0.000000e+00</td>\n",
       "    </tr>\n",
       "    <tr>\n",
       "      <th>max</th>\n",
       "      <td>469172.000000</td>\n",
       "      <td>3.800000e+08</td>\n",
       "      <td>547.488300</td>\n",
       "      <td>2.787965e+09</td>\n",
       "      <td>1256.000000</td>\n",
       "      <td>10.000000</td>\n",
       "      <td>14075.000000</td>\n",
       "      <td>2020.000000</td>\n",
       "      <td>1.239638e+09</td>\n",
       "    </tr>\n",
       "  </tbody>\n",
       "</table>\n",
       "</div>"
      ],
      "text/plain": [
       "                  id        budget    popularity       revenue       runtime  \\\n",
       "count   42196.000000  4.219600e+04  42196.000000  4.219600e+04  42196.000000   \n",
       "mean   106669.904896  4.160088e+06      2.914097  1.116670e+07     93.853302   \n",
       "std    111704.740881  1.721499e+07      5.744661  6.377178e+07     37.578123   \n",
       "min         2.000000  0.000000e+00      0.000000  0.000000e+00      0.000000   \n",
       "25%     25792.000000  0.000000e+00      0.387424  0.000000e+00     85.000000   \n",
       "50%     58390.500000  0.000000e+00      1.136089  0.000000e+00     95.000000   \n",
       "75%    152939.250000  0.000000e+00      3.717885  0.000000e+00    106.000000   \n",
       "max    469172.000000  3.800000e+08    547.488300  2.787965e+09   1256.000000   \n",
       "\n",
       "       vote_average    vote_count  release_year        return  \n",
       "count  42196.000000  42196.000000  42196.000000  4.219600e+04  \n",
       "mean       5.631261    109.391720   1991.914399  7.095609e+04  \n",
       "std        1.921395    489.341742     23.839319  7.745654e+06  \n",
       "min        0.000000      0.000000   1874.000000 -1.000000e+02  \n",
       "25%        5.000000      3.000000   1978.000000  0.000000e+00  \n",
       "50%        6.000000     10.000000   2001.000000  0.000000e+00  \n",
       "75%        6.800000     35.000000   2010.000000  0.000000e+00  \n",
       "max       10.000000  14075.000000   2020.000000  1.239638e+09  "
      ]
     },
     "execution_count": 65,
     "metadata": {},
     "output_type": "execute_result"
    }
   ],
   "source": [
    "df.describe()"
   ]
  },
  {
   "attachments": {},
   "cell_type": "markdown",
   "metadata": {},
   "source": [
    "Por el momento dejaremos las columnas que nos interesan"
   ]
  },
  {
   "cell_type": "code",
   "execution_count": 66,
   "metadata": {},
   "outputs": [],
   "source": [
    "df_reducido = df[['belongs_to_collection', 'genres',\n",
    "       'overview',  'production_companies',\n",
    "       'production_countries',\n",
    "         'tagline', 'title',  'director', 'actors_names']].copy()"
   ]
  },
  {
   "attachments": {},
   "cell_type": "markdown",
   "metadata": {},
   "source": [
    "Comenzemos con un tipo one hot encoding para la columna genres."
   ]
  },
  {
   "cell_type": "code",
   "execution_count": 67,
   "metadata": {},
   "outputs": [
    {
     "data": {
      "text/html": [
       "<div>\n",
       "<style scoped>\n",
       "    .dataframe tbody tr th:only-of-type {\n",
       "        vertical-align: middle;\n",
       "    }\n",
       "\n",
       "    .dataframe tbody tr th {\n",
       "        vertical-align: top;\n",
       "    }\n",
       "\n",
       "    .dataframe thead th {\n",
       "        text-align: right;\n",
       "    }\n",
       "</style>\n",
       "<table border=\"1\" class=\"dataframe\">\n",
       "  <thead>\n",
       "    <tr style=\"text-align: right;\">\n",
       "      <th></th>\n",
       "      <th>genres</th>\n",
       "    </tr>\n",
       "  </thead>\n",
       "  <tbody>\n",
       "    <tr>\n",
       "      <th>0</th>\n",
       "      <td>['Animation', 'Comedy', 'Family']</td>\n",
       "    </tr>\n",
       "    <tr>\n",
       "      <th>1</th>\n",
       "      <td>['Adventure', 'Fantasy', 'Family']</td>\n",
       "    </tr>\n",
       "    <tr>\n",
       "      <th>2</th>\n",
       "      <td>['Romance', 'Comedy']</td>\n",
       "    </tr>\n",
       "    <tr>\n",
       "      <th>3</th>\n",
       "      <td>['Comedy', 'Drama', 'Romance']</td>\n",
       "    </tr>\n",
       "    <tr>\n",
       "      <th>4</th>\n",
       "      <td>['Comedy']</td>\n",
       "    </tr>\n",
       "  </tbody>\n",
       "</table>\n",
       "</div>"
      ],
      "text/plain": [
       "                               genres\n",
       "0   ['Animation', 'Comedy', 'Family']\n",
       "1  ['Adventure', 'Fantasy', 'Family']\n",
       "2               ['Romance', 'Comedy']\n",
       "3      ['Comedy', 'Drama', 'Romance']\n",
       "4                          ['Comedy']"
      ]
     },
     "execution_count": 67,
     "metadata": {},
     "output_type": "execute_result"
    }
   ],
   "source": [
    "#extraemos y eliminamos faltantes\n",
    "series_genres = pd.DataFrame(df_reducido['genres'])\n",
    "series_genres.replace('N/D', '[]', inplace=True)\n",
    "series_genres.head()"
   ]
  },
  {
   "cell_type": "code",
   "execution_count": 68,
   "metadata": {},
   "outputs": [
    {
     "name": "stdout",
     "output_type": "stream",
     "text": [
      "['Animation', 'Comedy', 'Family', 'Adventure', 'Fantasy', 'Romance', 'Drama', 'Action', 'Crime', 'Thriller', 'Horror', 'History', 'Science Fiction', 'Mystery', 'War', 'Foreign', 'Music', 'Documentary', 'Western', 'TV Movie']\n"
     ]
    }
   ],
   "source": [
    "#extraemos los generos unicos para usarlos como columnas.\n",
    "generos_unicos = []\n",
    "for i in range(0, series_genres.shape[0]):\n",
    "    fila = series_genres.iloc[i, 0]\n",
    "    fila = eval(fila)\n",
    "    for genero in fila:\n",
    "        if genero not in generos_unicos:\n",
    "            generos_unicos.append(genero)\n",
    "print(generos_unicos)\n",
    "    "
   ]
  },
  {
   "attachments": {},
   "cell_type": "markdown",
   "metadata": {},
   "source": [
    "Creamos una funcion para ingresar los valores en cada fila. esto puede demorar un poco."
   ]
  },
  {
   "cell_type": "code",
   "execution_count": 69,
   "metadata": {},
   "outputs": [
    {
     "data": {
      "text/html": [
       "<div>\n",
       "<style scoped>\n",
       "    .dataframe tbody tr th:only-of-type {\n",
       "        vertical-align: middle;\n",
       "    }\n",
       "\n",
       "    .dataframe tbody tr th {\n",
       "        vertical-align: top;\n",
       "    }\n",
       "\n",
       "    .dataframe thead th {\n",
       "        text-align: right;\n",
       "    }\n",
       "</style>\n",
       "<table border=\"1\" class=\"dataframe\">\n",
       "  <thead>\n",
       "    <tr style=\"text-align: right;\">\n",
       "      <th></th>\n",
       "      <th>Animation</th>\n",
       "      <th>Comedy</th>\n",
       "      <th>Family</th>\n",
       "      <th>Adventure</th>\n",
       "      <th>Fantasy</th>\n",
       "      <th>Romance</th>\n",
       "      <th>Drama</th>\n",
       "      <th>Action</th>\n",
       "      <th>Crime</th>\n",
       "      <th>Thriller</th>\n",
       "      <th>Horror</th>\n",
       "      <th>History</th>\n",
       "      <th>Science Fiction</th>\n",
       "      <th>Mystery</th>\n",
       "      <th>War</th>\n",
       "      <th>Foreign</th>\n",
       "      <th>Music</th>\n",
       "      <th>Documentary</th>\n",
       "      <th>Western</th>\n",
       "      <th>TV Movie</th>\n",
       "    </tr>\n",
       "  </thead>\n",
       "  <tbody>\n",
       "    <tr>\n",
       "      <th>0</th>\n",
       "      <td>1</td>\n",
       "      <td>1</td>\n",
       "      <td>1</td>\n",
       "      <td>0</td>\n",
       "      <td>0</td>\n",
       "      <td>0</td>\n",
       "      <td>0</td>\n",
       "      <td>0</td>\n",
       "      <td>0</td>\n",
       "      <td>0</td>\n",
       "      <td>0</td>\n",
       "      <td>0</td>\n",
       "      <td>0</td>\n",
       "      <td>0</td>\n",
       "      <td>0</td>\n",
       "      <td>0</td>\n",
       "      <td>0</td>\n",
       "      <td>0</td>\n",
       "      <td>0</td>\n",
       "      <td>0</td>\n",
       "    </tr>\n",
       "    <tr>\n",
       "      <th>1</th>\n",
       "      <td>0</td>\n",
       "      <td>0</td>\n",
       "      <td>1</td>\n",
       "      <td>1</td>\n",
       "      <td>1</td>\n",
       "      <td>0</td>\n",
       "      <td>0</td>\n",
       "      <td>0</td>\n",
       "      <td>0</td>\n",
       "      <td>0</td>\n",
       "      <td>0</td>\n",
       "      <td>0</td>\n",
       "      <td>0</td>\n",
       "      <td>0</td>\n",
       "      <td>0</td>\n",
       "      <td>0</td>\n",
       "      <td>0</td>\n",
       "      <td>0</td>\n",
       "      <td>0</td>\n",
       "      <td>0</td>\n",
       "    </tr>\n",
       "    <tr>\n",
       "      <th>2</th>\n",
       "      <td>0</td>\n",
       "      <td>1</td>\n",
       "      <td>0</td>\n",
       "      <td>0</td>\n",
       "      <td>0</td>\n",
       "      <td>1</td>\n",
       "      <td>0</td>\n",
       "      <td>0</td>\n",
       "      <td>0</td>\n",
       "      <td>0</td>\n",
       "      <td>0</td>\n",
       "      <td>0</td>\n",
       "      <td>0</td>\n",
       "      <td>0</td>\n",
       "      <td>0</td>\n",
       "      <td>0</td>\n",
       "      <td>0</td>\n",
       "      <td>0</td>\n",
       "      <td>0</td>\n",
       "      <td>0</td>\n",
       "    </tr>\n",
       "  </tbody>\n",
       "</table>\n",
       "</div>"
      ],
      "text/plain": [
       "   Animation  Comedy  Family  Adventure  Fantasy  Romance  Drama  Action  \\\n",
       "0          1       1       1          0        0        0      0       0   \n",
       "1          0       0       1          1        1        0      0       0   \n",
       "2          0       1       0          0        0        1      0       0   \n",
       "\n",
       "   Crime  Thriller  Horror  History  Science Fiction  Mystery  War  Foreign  \\\n",
       "0      0         0       0        0                0        0    0        0   \n",
       "1      0         0       0        0                0        0    0        0   \n",
       "2      0         0       0        0                0        0    0        0   \n",
       "\n",
       "   Music  Documentary  Western  TV Movie  \n",
       "0      0            0        0         0  \n",
       "1      0            0        0         0  \n",
       "2      0            0        0         0  "
      ]
     },
     "execution_count": 69,
     "metadata": {},
     "output_type": "execute_result"
    }
   ],
   "source": [
    "diccionario_generos = {}\n",
    "for genero in generos_unicos:\n",
    "    diccionario_generos[genero] = []\n",
    "\n",
    "\n",
    "for i in range(0, series_genres.shape[0]):\n",
    "    fila = series_genres.iloc[i, 0]\n",
    "    fila = eval(fila)\n",
    "    if len(fila) == 0:\n",
    "        for key in diccionario_generos:\n",
    "            diccionario_generos[key].append(0)\n",
    "    else:\n",
    "        for key in diccionario_generos:\n",
    "            if key in fila:\n",
    "                diccionario_generos[key].append(1)\n",
    "            else:\n",
    "                diccionario_generos[key].append(0)\n",
    "\n",
    "generos_dummies = pd.DataFrame(diccionario_generos)\n",
    "generos_dummies.head(3)"
   ]
  },
  {
   "attachments": {},
   "cell_type": "markdown",
   "metadata": {},
   "source": [
    "Le agregemos la columna id para luego hacer un merge"
   ]
  },
  {
   "cell_type": "code",
   "execution_count": 70,
   "metadata": {},
   "outputs": [
    {
     "data": {
      "text/html": [
       "<div>\n",
       "<style scoped>\n",
       "    .dataframe tbody tr th:only-of-type {\n",
       "        vertical-align: middle;\n",
       "    }\n",
       "\n",
       "    .dataframe tbody tr th {\n",
       "        vertical-align: top;\n",
       "    }\n",
       "\n",
       "    .dataframe thead th {\n",
       "        text-align: right;\n",
       "    }\n",
       "</style>\n",
       "<table border=\"1\" class=\"dataframe\">\n",
       "  <thead>\n",
       "    <tr style=\"text-align: right;\">\n",
       "      <th></th>\n",
       "      <th>Animation</th>\n",
       "      <th>Comedy</th>\n",
       "      <th>Family</th>\n",
       "      <th>Adventure</th>\n",
       "      <th>Fantasy</th>\n",
       "      <th>Romance</th>\n",
       "      <th>Drama</th>\n",
       "      <th>Action</th>\n",
       "      <th>Crime</th>\n",
       "      <th>Thriller</th>\n",
       "      <th>...</th>\n",
       "      <th>History</th>\n",
       "      <th>Science Fiction</th>\n",
       "      <th>Mystery</th>\n",
       "      <th>War</th>\n",
       "      <th>Foreign</th>\n",
       "      <th>Music</th>\n",
       "      <th>Documentary</th>\n",
       "      <th>Western</th>\n",
       "      <th>TV Movie</th>\n",
       "      <th>id</th>\n",
       "    </tr>\n",
       "  </thead>\n",
       "  <tbody>\n",
       "    <tr>\n",
       "      <th>0</th>\n",
       "      <td>1</td>\n",
       "      <td>1</td>\n",
       "      <td>1</td>\n",
       "      <td>0</td>\n",
       "      <td>0</td>\n",
       "      <td>0</td>\n",
       "      <td>0</td>\n",
       "      <td>0</td>\n",
       "      <td>0</td>\n",
       "      <td>0</td>\n",
       "      <td>...</td>\n",
       "      <td>0</td>\n",
       "      <td>0</td>\n",
       "      <td>0</td>\n",
       "      <td>0</td>\n",
       "      <td>0</td>\n",
       "      <td>0</td>\n",
       "      <td>0</td>\n",
       "      <td>0</td>\n",
       "      <td>0</td>\n",
       "      <td>0</td>\n",
       "    </tr>\n",
       "    <tr>\n",
       "      <th>1</th>\n",
       "      <td>0</td>\n",
       "      <td>0</td>\n",
       "      <td>1</td>\n",
       "      <td>1</td>\n",
       "      <td>1</td>\n",
       "      <td>0</td>\n",
       "      <td>0</td>\n",
       "      <td>0</td>\n",
       "      <td>0</td>\n",
       "      <td>0</td>\n",
       "      <td>...</td>\n",
       "      <td>0</td>\n",
       "      <td>0</td>\n",
       "      <td>0</td>\n",
       "      <td>0</td>\n",
       "      <td>0</td>\n",
       "      <td>0</td>\n",
       "      <td>0</td>\n",
       "      <td>0</td>\n",
       "      <td>0</td>\n",
       "      <td>1</td>\n",
       "    </tr>\n",
       "    <tr>\n",
       "      <th>2</th>\n",
       "      <td>0</td>\n",
       "      <td>1</td>\n",
       "      <td>0</td>\n",
       "      <td>0</td>\n",
       "      <td>0</td>\n",
       "      <td>1</td>\n",
       "      <td>0</td>\n",
       "      <td>0</td>\n",
       "      <td>0</td>\n",
       "      <td>0</td>\n",
       "      <td>...</td>\n",
       "      <td>0</td>\n",
       "      <td>0</td>\n",
       "      <td>0</td>\n",
       "      <td>0</td>\n",
       "      <td>0</td>\n",
       "      <td>0</td>\n",
       "      <td>0</td>\n",
       "      <td>0</td>\n",
       "      <td>0</td>\n",
       "      <td>2</td>\n",
       "    </tr>\n",
       "  </tbody>\n",
       "</table>\n",
       "<p>3 rows × 21 columns</p>\n",
       "</div>"
      ],
      "text/plain": [
       "   Animation  Comedy  Family  Adventure  Fantasy  Romance  Drama  Action  \\\n",
       "0          1       1       1          0        0        0      0       0   \n",
       "1          0       0       1          1        1        0      0       0   \n",
       "2          0       1       0          0        0        1      0       0   \n",
       "\n",
       "   Crime  Thriller  ...  History  Science Fiction  Mystery  War  Foreign  \\\n",
       "0      0         0  ...        0                0        0    0        0   \n",
       "1      0         0  ...        0                0        0    0        0   \n",
       "2      0         0  ...        0                0        0    0        0   \n",
       "\n",
       "   Music  Documentary  Western  TV Movie  id  \n",
       "0      0            0        0         0   0  \n",
       "1      0            0        0         0   1  \n",
       "2      0            0        0         0   2  \n",
       "\n",
       "[3 rows x 21 columns]"
      ]
     },
     "execution_count": 70,
     "metadata": {},
     "output_type": "execute_result"
    }
   ],
   "source": [
    "df_index = list(df.index)\n",
    "dicc_index = {'id': df_index}\n",
    "df_index = pd.DataFrame(dicc_index)\n",
    "generos_dummies['id'] = df_index\n",
    "generos_dummies.head(3)"
   ]
  },
  {
   "attachments": {},
   "cell_type": "markdown",
   "metadata": {},
   "source": [
    "Creemos otro dataframe con los valores de los votos para analizar las mejores peliculas votadas por la gente."
   ]
  },
  {
   "cell_type": "code",
   "execution_count": 71,
   "metadata": {},
   "outputs": [
    {
     "data": {
      "text/plain": [
       "(42196, 4)"
      ]
     },
     "execution_count": 71,
     "metadata": {},
     "output_type": "execute_result"
    }
   ],
   "source": [
    "df5 = df[['id', 'title','vote_count','vote_average']]\n",
    "df5.shape"
   ]
  },
  {
   "cell_type": "code",
   "execution_count": 72,
   "metadata": {},
   "outputs": [
    {
     "data": {
      "text/html": [
       "<div>\n",
       "<style scoped>\n",
       "    .dataframe tbody tr th:only-of-type {\n",
       "        vertical-align: middle;\n",
       "    }\n",
       "\n",
       "    .dataframe tbody tr th {\n",
       "        vertical-align: top;\n",
       "    }\n",
       "\n",
       "    .dataframe thead th {\n",
       "        text-align: right;\n",
       "    }\n",
       "</style>\n",
       "<table border=\"1\" class=\"dataframe\">\n",
       "  <thead>\n",
       "    <tr style=\"text-align: right;\">\n",
       "      <th></th>\n",
       "      <th>id</th>\n",
       "      <th>vote_count</th>\n",
       "      <th>vote_average</th>\n",
       "    </tr>\n",
       "  </thead>\n",
       "  <tbody>\n",
       "    <tr>\n",
       "      <th>count</th>\n",
       "      <td>42196.000000</td>\n",
       "      <td>42196.000000</td>\n",
       "      <td>42196.000000</td>\n",
       "    </tr>\n",
       "    <tr>\n",
       "      <th>mean</th>\n",
       "      <td>106669.904896</td>\n",
       "      <td>109.391720</td>\n",
       "      <td>5.631261</td>\n",
       "    </tr>\n",
       "    <tr>\n",
       "      <th>std</th>\n",
       "      <td>111704.740881</td>\n",
       "      <td>489.341742</td>\n",
       "      <td>1.921395</td>\n",
       "    </tr>\n",
       "    <tr>\n",
       "      <th>min</th>\n",
       "      <td>2.000000</td>\n",
       "      <td>0.000000</td>\n",
       "      <td>0.000000</td>\n",
       "    </tr>\n",
       "    <tr>\n",
       "      <th>25%</th>\n",
       "      <td>25792.000000</td>\n",
       "      <td>3.000000</td>\n",
       "      <td>5.000000</td>\n",
       "    </tr>\n",
       "    <tr>\n",
       "      <th>50%</th>\n",
       "      <td>58390.500000</td>\n",
       "      <td>10.000000</td>\n",
       "      <td>6.000000</td>\n",
       "    </tr>\n",
       "    <tr>\n",
       "      <th>75%</th>\n",
       "      <td>152939.250000</td>\n",
       "      <td>35.000000</td>\n",
       "      <td>6.800000</td>\n",
       "    </tr>\n",
       "    <tr>\n",
       "      <th>max</th>\n",
       "      <td>469172.000000</td>\n",
       "      <td>14075.000000</td>\n",
       "      <td>10.000000</td>\n",
       "    </tr>\n",
       "  </tbody>\n",
       "</table>\n",
       "</div>"
      ],
      "text/plain": [
       "                  id    vote_count  vote_average\n",
       "count   42196.000000  42196.000000  42196.000000\n",
       "mean   106669.904896    109.391720      5.631261\n",
       "std    111704.740881    489.341742      1.921395\n",
       "min         2.000000      0.000000      0.000000\n",
       "25%     25792.000000      3.000000      5.000000\n",
       "50%     58390.500000     10.000000      6.000000\n",
       "75%    152939.250000     35.000000      6.800000\n",
       "max    469172.000000  14075.000000     10.000000"
      ]
     },
     "execution_count": 72,
     "metadata": {},
     "output_type": "execute_result"
    }
   ],
   "source": [
    "df5.describe()"
   ]
  },
  {
   "attachments": {},
   "cell_type": "markdown",
   "metadata": {},
   "source": [
    "Eliminemos los valores nulos y analizemos la distribucion"
   ]
  },
  {
   "cell_type": "code",
   "execution_count": 73,
   "metadata": {},
   "outputs": [
    {
     "name": "stdout",
     "output_type": "stream",
     "text": [
      "(39440, 4)\n"
     ]
    },
    {
     "data": {
      "text/html": [
       "<div>\n",
       "<style scoped>\n",
       "    .dataframe tbody tr th:only-of-type {\n",
       "        vertical-align: middle;\n",
       "    }\n",
       "\n",
       "    .dataframe tbody tr th {\n",
       "        vertical-align: top;\n",
       "    }\n",
       "\n",
       "    .dataframe thead th {\n",
       "        text-align: right;\n",
       "    }\n",
       "</style>\n",
       "<table border=\"1\" class=\"dataframe\">\n",
       "  <thead>\n",
       "    <tr style=\"text-align: right;\">\n",
       "      <th></th>\n",
       "      <th>id</th>\n",
       "      <th>title</th>\n",
       "      <th>vote_count</th>\n",
       "      <th>vote_average</th>\n",
       "    </tr>\n",
       "  </thead>\n",
       "  <tbody>\n",
       "    <tr>\n",
       "      <th>0</th>\n",
       "      <td>862</td>\n",
       "      <td>Toy Story</td>\n",
       "      <td>5415.0</td>\n",
       "      <td>7.7</td>\n",
       "    </tr>\n",
       "    <tr>\n",
       "      <th>1</th>\n",
       "      <td>8844</td>\n",
       "      <td>Jumanji</td>\n",
       "      <td>2413.0</td>\n",
       "      <td>6.9</td>\n",
       "    </tr>\n",
       "    <tr>\n",
       "      <th>2</th>\n",
       "      <td>15602</td>\n",
       "      <td>Grumpier Old Men</td>\n",
       "      <td>92.0</td>\n",
       "      <td>6.5</td>\n",
       "    </tr>\n",
       "    <tr>\n",
       "      <th>3</th>\n",
       "      <td>31357</td>\n",
       "      <td>Waiting to Exhale</td>\n",
       "      <td>34.0</td>\n",
       "      <td>6.1</td>\n",
       "    </tr>\n",
       "    <tr>\n",
       "      <th>4</th>\n",
       "      <td>11862</td>\n",
       "      <td>Father of the Bride Part II</td>\n",
       "      <td>173.0</td>\n",
       "      <td>5.7</td>\n",
       "    </tr>\n",
       "  </tbody>\n",
       "</table>\n",
       "</div>"
      ],
      "text/plain": [
       "      id                        title  vote_count  vote_average\n",
       "0    862                    Toy Story      5415.0           7.7\n",
       "1   8844                      Jumanji      2413.0           6.9\n",
       "2  15602             Grumpier Old Men        92.0           6.5\n",
       "3  31357            Waiting to Exhale        34.0           6.1\n",
       "4  11862  Father of the Bride Part II       173.0           5.7"
      ]
     },
     "execution_count": 73,
     "metadata": {},
     "output_type": "execute_result"
    }
   ],
   "source": [
    "df2 = df5.drop(df5[df5[\"vote_average\"] == 0].index)\n",
    "df_EDA = df2.drop(df2[df2[\"vote_count\"] == 0].index)\n",
    "print(df_EDA.shape)\n",
    "df_EDA.head(5)\n"
   ]
  },
  {
   "attachments": {},
   "cell_type": "markdown",
   "metadata": {},
   "source": [
    "Observamos que nos quedan 39440 peliculas, hagamos un pequeño analisis a esto."
   ]
  },
  {
   "cell_type": "code",
   "execution_count": 74,
   "metadata": {},
   "outputs": [
    {
     "data": {
      "image/png": "[encoded data removed]",
      "text/plain": [
       "<Figure size 1000x500 with 2 Axes>"
      ]
     },
     "metadata": {},
     "output_type": "display_data"
    }
   ],
   "source": [
    "fig, axs = plt.subplots(nrows=2, ncols=1, figsize=(10, 5))\n",
    "sns.boxplot(x=df_EDA['vote_average'], ax=axs[0])\n",
    "sns.boxplot(x=df_EDA['vote_count'], ax=axs[1])\n",
    "\n",
    "plt.tight_layout()\n",
    "plt.show()"
   ]
  },
  {
   "attachments": {},
   "cell_type": "markdown",
   "metadata": {},
   "source": [
    "Podemos observar que hay una gran cantidad de peliculas con muy pocas vistas, pongamos un umbral para que sea real."
   ]
  },
  {
   "attachments": {},
   "cell_type": "markdown",
   "metadata": {},
   "source": [
    "Chequeemos las peliculas que tienen mas de 500 votos."
   ]
  },
  {
   "cell_type": "code",
   "execution_count": 75,
   "metadata": {},
   "outputs": [
    {
     "data": {
      "text/plain": [
       "(1888, 4)"
      ]
     },
     "execution_count": 75,
     "metadata": {},
     "output_type": "execute_result"
    }
   ],
   "source": [
    "df_EDA['vote_count'] = df_EDA['vote_count'].apply(lambda x: x if x > 500 else None)\n",
    "df_EDA = df_EDA.dropna()\n",
    "df_EDA.shape"
   ]
  },
  {
   "attachments": {},
   "cell_type": "markdown",
   "metadata": {},
   "source": [
    "Wow!, solo 1888 peliculas tienen mas de 500 votos!, okey veamos cuales son las distribuciones ahora."
   ]
  },
  {
   "cell_type": "code",
   "execution_count": 76,
   "metadata": {},
   "outputs": [
    {
     "data": {
      "image/png": "[encoded data removed]",
      "text/plain": [
       "<Figure size 640x480 with 1 Axes>"
      ]
     },
     "metadata": {},
     "output_type": "display_data"
    }
   ],
   "source": [
    "plt.hist(df_EDA['vote_average'], log= True)\n",
    "plt.title('Puntaje promedio')\n",
    "plt.show()"
   ]
  },
  {
   "cell_type": "code",
   "execution_count": 77,
   "metadata": {},
   "outputs": [
    {
     "data": {
      "image/png": "[encoded data removed]",
      "text/plain": [
       "<Figure size 640x480 with 1 Axes>"
      ]
     },
     "metadata": {},
     "output_type": "display_data"
    }
   ],
   "source": [
    "df_EDA['vote_count'].hist(bins=20)\n",
    "plt.title('Cantidad de votos por pelicula')\n",
    "plt.show()"
   ]
  },
  {
   "attachments": {},
   "cell_type": "markdown",
   "metadata": {},
   "source": [
    "Vemos que tienen una distribucion un poco mas legibles, veamos los outliers"
   ]
  },
  {
   "cell_type": "code",
   "execution_count": 78,
   "metadata": {},
   "outputs": [
    {
     "data": {
      "image/png": "[encoded data removed]",
      "text/plain": [
       "<Figure size 1000x500 with 2 Axes>"
      ]
     },
     "metadata": {},
     "output_type": "display_data"
    }
   ],
   "source": [
    "fig, axs = plt.subplots(nrows=2, ncols=1, figsize=(10, 5))\n",
    "sns.boxplot(x=df_EDA['vote_average'], ax=axs[0])\n",
    "sns.boxplot(x=df_EDA['vote_count'], ax=axs[1])\n",
    "\n",
    "plt.tight_layout()\n",
    "plt.show()"
   ]
  },
  {
   "attachments": {},
   "cell_type": "markdown",
   "metadata": {},
   "source": [
    "Ahora que mejoramos un poco el estado de nuestro dataset podemos analizar un poco las peliculas."
   ]
  },
  {
   "cell_type": "code",
   "execution_count": 79,
   "metadata": {},
   "outputs": [
    {
     "name": "stdout",
     "output_type": "stream",
     "text": [
      "pelicula con mas votos y puntaje: Dilwale Dulhania Le Jayenge\n",
      "pelicula con menos votos y puntaje: Jack and Jill\n"
     ]
    }
   ],
   "source": [
    "df_EDA = df_EDA.sort_values(by=['vote_average', 'vote_count'], ascending=False)\n",
    "print(f'pelicula con mas votos y puntaje: {df_EDA.iloc[0, 1]}')\n",
    "print(f'pelicula con menos votos y puntaje: {df_EDA.iloc[-1, 1]}')"
   ]
  },
  {
   "attachments": {},
   "cell_type": "markdown",
   "metadata": {},
   "source": [
    "Creemos una variable con los top 10"
   ]
  },
  {
   "cell_type": "code",
   "execution_count": 80,
   "metadata": {},
   "outputs": [],
   "source": [
    "top_10_df = df_EDA.sort_values(by=['vote_average', 'vote_count'], ascending=False).head(10)"
   ]
  },
  {
   "attachments": {},
   "cell_type": "markdown",
   "metadata": {},
   "source": [
    "T los grafiquemos"
   ]
  },
  {
   "cell_type": "code",
   "execution_count": 81,
   "metadata": {},
   "outputs": [
    {
     "data": {
      "image/png": "[encoded data removed]",
      "text/plain": [
       "<Figure size 800x300 with 1 Axes>"
      ]
     },
     "metadata": {},
     "output_type": "display_data"
    }
   ],
   "source": [
    "fig = plt.figure(figsize=(8, 3))\n",
    "sns.barplot(data=top_10_df,y='title', x='vote_average')\n",
    "plt.title('Top 10 peliculas mejor votadas')\n",
    "plt.show()"
   ]
  },
  {
   "attachments": {},
   "cell_type": "markdown",
   "metadata": {},
   "source": [
    "Seria interesante averiguar los 10 generos mas frecuentes, vamos a ello."
   ]
  },
  {
   "cell_type": "code",
   "execution_count": 82,
   "metadata": {},
   "outputs": [
    {
     "data": {
      "text/plain": [
       "(1238, 24)"
      ]
     },
     "execution_count": 82,
     "metadata": {},
     "output_type": "execute_result"
    }
   ],
   "source": [
    "df_generos = pd.merge(generos_dummies, df_EDA, how='inner', on='id')\n",
    "df_generos.shape"
   ]
  },
  {
   "cell_type": "code",
   "execution_count": 83,
   "metadata": {},
   "outputs": [],
   "source": [
    "df_solo_generos = df_generos[['Animation', 'Comedy', 'Family', 'Adventure', 'Fantasy', 'Romance',\n",
    "       'Drama', 'Action', 'Crime', 'Thriller', 'Horror', 'History',\n",
    "       'Science Fiction', 'Mystery', 'War', 'Foreign', 'Music', 'Documentary',\n",
    "       'Western', 'TV Movie']].copy()\n",
    "top_10_generos = df_solo_generos.sum().sort_values(ascending=False)\n",
    "y = list(top_10_generos.values)\n",
    "x = list(top_10_generos.index)"
   ]
  },
  {
   "cell_type": "code",
   "execution_count": 84,
   "metadata": {},
   "outputs": [
    {
     "data": {
      "image/png": "[encoded data removed]",
      "text/plain": [
       "<Figure size 800x300 with 1 Axes>"
      ]
     },
     "metadata": {},
     "output_type": "display_data"
    }
   ],
   "source": [
    "fig = plt.figure(figsize=(8,3))\n",
    "sns.barplot(y=y, x=x)\n",
    "plt.title('Generos mas frecuentes.')\n",
    "plt.xticks(rotation=45)\n",
    "plt.show()"
   ]
  },
  {
   "cell_type": "code",
   "execution_count": 87,
   "metadata": {},
   "outputs": [
    {
     "data": {
      "text/plain": [
       "(1888, 5)"
      ]
     },
     "execution_count": 87,
     "metadata": {},
     "output_type": "execute_result"
    }
   ],
   "source": [
    "df_overview = df[['overview', 'id']].copy()\n",
    "df_ml = pd.merge(df_EDA, df_overview, on='id')\n",
    "df_ml.shape\n"
   ]
  },
  {
   "cell_type": "code",
   "execution_count": null,
   "metadata": {},
   "outputs": [],
   "source": [
    "df_ml.to_csv('data/df_ml.csv')"
   ]
  }
 ],
 "metadata": {
  "kernelspec": {
   "display_name": "proyecto_integrador_1",
   "language": "python",
   "name": "python3"
  },
  "language_info": {
   "codemirror_mode": {
    "name": "ipython",
    "version": 3
   },
   "file_extension": ".py",
   "mimetype": "text/x-python",
   "name": "python",
   "nbconvert_exporter": "python",
   "pygments_lexer": "ipython3",
   "version": "3.11.1"
  },
  "orig_nbformat": 4
 },
 "nbformat": 4,
 "nbformat_minor": 2
}
